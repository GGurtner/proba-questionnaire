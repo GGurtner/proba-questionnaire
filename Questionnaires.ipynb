{
 "cells": [
  {
   "cell_type": "code",
   "execution_count": 105,
   "id": "0bc777be",
   "metadata": {},
   "outputs": [
    {
     "name": "stdout",
     "output_type": "stream",
     "text": [
      "%pylab is deprecated, use %matplotlib inline and import the required libraries.\n",
      "Populating the interactive namespace from numpy and matplotlib\n"
     ]
    }
   ],
   "source": [
    "%pylab inline\n",
    "\n",
    "import pandas as pd\n",
    "import string\n",
    "import scipy\n",
    "import datetime as dt\n",
    "from contextlib import contextmanager\n",
    "\n",
    "from concurrent.futures import ProcessPoolExecutor as Pool"
   ]
  },
  {
   "cell_type": "code",
   "execution_count": 106,
   "id": "4d648198",
   "metadata": {},
   "outputs": [],
   "source": [
    "@contextmanager\n",
    "def clock_time(message_before=None, \n",
    "\tmessage_after='executed in', print_function=print,\n",
    "\toneline=False):\n",
    "\n",
    "\tif message_before is not None:\n",
    "\t\tif oneline:\n",
    "\t\t\tprint_function(message_before, end=\"\\r\")\n",
    "\t\telse:\n",
    "\t\t\tprint_function(message_before)\n",
    "\tstart = dt.datetime.now()\n",
    "\tyield\n",
    "\telapsed = dt.datetime.now() - start\n",
    "\n",
    "\tif oneline and message_before is not None:\n",
    "\t\tmessage = ' '.join([message_before, message_after, str(elapsed)])\n",
    "\telse:\n",
    "\t\tmessage = ' '.join([message_after, str(elapsed)])\n",
    "\t\t\n",
    "\tprint_function (message)"
   ]
  },
  {
   "cell_type": "markdown",
   "id": "156f88f7",
   "metadata": {},
   "source": [
    "Say that you have N questions in store. You create M questionnaires (for M pupils for instance) from this pool, each composed of n questions, without repetition of questions and sorting the questions. Then the aim is to compute the probability of have at least twice the same questionnaire."
   ]
  },
  {
   "cell_type": "markdown",
   "id": "e4dde2d2",
   "metadata": {},
   "source": [
    "# Theory"
   ]
  },
  {
   "cell_type": "code",
   "execution_count": 108,
   "id": "2ad20122",
   "metadata": {},
   "outputs": [
    {
     "data": {
      "text/plain": [
       "0.9345270925"
      ]
     },
     "execution_count": 108,
     "metadata": {},
     "output_type": "execute_result"
    }
   ],
   "source": [
    "# Number of questionnaire possible when selecting n questions among N.\n",
    "# Questions cannot be duplicated, and their order do not matter.\n",
    "def S(n, N):\n",
    "    return math.comb(N, n)\n",
    "\n",
    "# Given number of possible questionnaires SS and number of questionnaires to produce, compute\n",
    "# proba of having all questionnaires different and take the negative.\n",
    "def P_th(SS, M):\n",
    "    if SS>=M:\n",
    "        return 1.- math.factorial(SS)/(math.factorial(SS-M)*SS**M)\n",
    "    else:\n",
    "        return 1.\n",
    "\n",
    "def p_exact(n, N, M):\n",
    "    return P_th(S(n, N), M)\n",
    "    \n",
    "    \n",
    "p_exact(3, 6, 10)"
   ]
  },
  {
   "cell_type": "code",
   "execution_count": 151,
   "id": "2559cf66",
   "metadata": {},
   "outputs": [
    {
     "data": {
      "text/plain": [
       "0.9345270925"
      ]
     },
     "execution_count": 151,
     "metadata": {},
     "output_type": "execute_result"
    }
   ],
   "source": [
    "# Faster\n",
    "\n",
    "def S_fast(n, N):\n",
    "    return int(scipy.special.comb(N, n))\n",
    "\n",
    "def P_th_fast(SS, M):\n",
    "    if SS>=M:\n",
    "        return 1.- scipy.special.factorial(SS)/(scipy.special.factorial(SS-M)*SS**M)\n",
    "    else:\n",
    "        return 1.\n",
    "\n",
    "def p_exact_fast(n, N, M):\n",
    "    return P_th_fast(S_fast(n, N), M)\n",
    "\n",
    "p_exact_fast(3, 6, 10)"
   ]
  },
  {
   "cell_type": "code",
   "execution_count": 167,
   "id": "e9454467",
   "metadata": {},
   "outputs": [
    {
     "data": {
      "text/plain": [
       "0.9345270925"
      ]
     },
     "execution_count": 167,
     "metadata": {},
     "output_type": "execute_result"
    }
   ],
   "source": [
    "# Better, and fast\n",
    "def stuff2(M, SS, SS_tot):\n",
    "    if SS==SS_tot-M:\n",
    "        return 1\n",
    "    else:\n",
    "        return stuff2(M, SS-1, SS_tot) * SS\n",
    "\n",
    "def stuff(M, SS):\n",
    "    return stuff2(M, SS, SS)\n",
    "    \n",
    "def P_th_fastest(SS, M):\n",
    "    if SS>=M:\n",
    "        return 1.- stuff(M, SS)/SS**(M)\n",
    "    else:\n",
    "        return 1.\n",
    "\n",
    "def p_exact_fastest(n, N, M):\n",
    "    return P_th_fastest(S_fast(n, N), M)\n",
    "\n",
    "p_exact_fastest(3, 6, 10)"
   ]
  },
  {
   "cell_type": "code",
   "execution_count": 189,
   "id": "4aec49f5",
   "metadata": {},
   "outputs": [
    {
     "name": "stdout",
     "output_type": "stream",
     "text": [
      "0.000293783613898424\n",
      "Done fastest in 0:00:00.000098\n",
      "\n",
      "nan\n",
      "Done fast in 0:00:00.000103\n",
      "\n"
     ]
    },
    {
     "name": "stderr",
     "output_type": "stream",
     "text": [
      "/tmp/ipykernel_17038/1854343285.py:10: RuntimeWarning: invalid value encountered in double_scalars\n",
      "  return 1.- scipy.special.factorial(SS)/(scipy.special.factorial(SS-M)*SS**M)\n"
     ]
    },
    {
     "name": "stdout",
     "output_type": "stream",
     "text": [
      "0.000293783613898424\n",
      "Done standard in 0:00:05.741882\n"
     ]
    }
   ],
   "source": [
    "n = 10 # number of questions on one questionnaire\n",
    "N = 22 # Number of possible questions\n",
    "M = 20 # number of pupils\n",
    "\n",
    "#print (S_fast(n, N))\n",
    "\n",
    "with clock_time(message_after='Done fastest in'):\n",
    "    print (p_exact_fastest(n, N, M))\n",
    "print ()\n",
    "with clock_time(message_after='Done fast in'):\n",
    "    print (p_exact_fast(n, N, M)) # Faster but not very good....\n",
    "print ()\n",
    "with clock_time(message_after='Done standard in'):\n",
    "    print (p_exact(n, N, M))"
   ]
  },
  {
   "cell_type": "markdown",
   "id": "df141be4",
   "metadata": {},
   "source": [
    "# Simulations"
   ]
  },
  {
   "cell_type": "code",
   "execution_count": 54,
   "id": "334e5cdb",
   "metadata": {},
   "outputs": [],
   "source": [
    "# Generate set of copies\n",
    "def gen_copy(questions, n):\n",
    "    return tuple(sorted(np.random.choice(questions, size=n, replace=False)))\n",
    "\n",
    "def gen_copies(questions, n, M):\n",
    "    return [gen_copy(questions, n) for i in range(M)]\n",
    "\n",
    "def is_there_at_least_two_identical_copies(copies):\n",
    "    return len(set(copies))!=len(copies)\n",
    "\n",
    "# Sample \n",
    "def compute_approximate_proba(n_iter, n=7, N=50, M=30):\n",
    "    results = [is_there_at_least_two_identical_copies(gen_copies(list(range(N)), n, M)) for i in range(n_iter)]\n",
    "    \n",
    "    return np.mean(results)"
   ]
  },
  {
   "cell_type": "code",
   "execution_count": 168,
   "id": "991e4ef0",
   "metadata": {},
   "outputs": [
    {
     "name": "stdout",
     "output_type": "stream",
     "text": [
      "0.7222222222222222\n",
      "0.69\n"
     ]
    }
   ],
   "source": [
    "N = 4\n",
    "M = 4\n",
    "n = 2\n",
    "n_iter = 100\n",
    "\n",
    "print (p_exact_fastest(n, N, M))\n",
    "print (compute_approximate_proba(n_iter, n=n, N=N, M=M))"
   ]
  },
  {
   "cell_type": "code",
   "execution_count": 169,
   "id": "429174dd",
   "metadata": {},
   "outputs": [
    {
     "name": "stdout",
     "output_type": "stream",
     "text": [
      "0.7222222222222222\n",
      "0.7181\n"
     ]
    }
   ],
   "source": [
    "N = 4\n",
    "M = 4\n",
    "n = 2\n",
    "n_iter = 10000\n",
    "\n",
    "print (p_exact_fastest(n, N, M))\n",
    "print (compute_approximate_proba(n_iter, n=n, N=N, M=M))"
   ]
  },
  {
   "cell_type": "code",
   "execution_count": 170,
   "id": "977f9788",
   "metadata": {},
   "outputs": [
    {
     "name": "stdout",
     "output_type": "stream",
     "text": [
      "0.31975753179568944\n",
      "0.324\n"
     ]
    }
   ],
   "source": [
    "N = 10\n",
    "M = 10\n",
    "n = 3\n",
    "n_iter = 10000\n",
    "\n",
    "print (p_exact_fastest(n, N, M))\n",
    "print (compute_approximate_proba(n_iter, n=n, N=N, M=M))"
   ]
  },
  {
   "cell_type": "markdown",
   "id": "d699da40",
   "metadata": {},
   "source": [
    "# Plots"
   ]
  },
  {
   "cell_type": "code",
   "execution_count": 191,
   "id": "c41a8e60",
   "metadata": {},
   "outputs": [],
   "source": [
    "n = 3 # number of questions\n",
    "M = 10 # number of pupils\n",
    "N_max = 20\n",
    "\n",
    "p_exact_vec = np.vectorize(lambda x: p_exact_fastest(n, x, M))\n",
    "xxN = list(range(n, N_max))\n",
    "results = p_exact_vec(xxN)"
   ]
  },
  {
   "cell_type": "code",
   "execution_count": 192,
   "id": "62c974b4",
   "metadata": {},
   "outputs": [
    {
     "data": {
      "text/plain": [
       "Text(0, 0.5, 'Proba. at least 2 identical')"
      ]
     },
     "execution_count": 192,
     "metadata": {},
     "output_type": "execute_result"
    },
    {
     "data": {
      "image/png": "[encoded data removed]",
      "text/plain": [
       "<Figure size 640x480 with 1 Axes>"
      ]
     },
     "metadata": {},
     "output_type": "display_data"
    }
   ],
   "source": [
    "fig, ax = subplots()\n",
    "ax.plot(xxN, results, 'o-')\n",
    "\n",
    "ax.set_title('{} students and {} questions per questionnaire'.format(M, n))\n",
    "ax.set_xlabel('Number of possible questions')\n",
    "ax.set_ylabel('Proba. at least 2 identical')"
   ]
  },
  {
   "cell_type": "code",
   "execution_count": 193,
   "id": "c67e47a4",
   "metadata": {},
   "outputs": [],
   "source": [
    "n = 10 # number of questions\n",
    "M = 20 # number of pupils\n",
    "N_max = 30\n",
    "\n",
    "p_exact_vec = np.vectorize(lambda x: p_exact_fastest(n, x, M))\n",
    "xxN = list(range(n, N_max)) # number of possible questions\n",
    "results = p_exact_vec(xxN)"
   ]
  },
  {
   "cell_type": "code",
   "execution_count": 194,
   "id": "ce11c631",
   "metadata": {},
   "outputs": [
    {
     "data": {
      "text/plain": [
       "Text(0, 0.5, 'Proba. at least 2 identical')"
      ]
     },
     "execution_count": 194,
     "metadata": {},
     "output_type": "execute_result"
    },
    {
     "data": {
      "image/png": "[encoded data removed]",
      "text/plain": [
       "<Figure size 640x480 with 1 Axes>"
      ]
     },
     "metadata": {},
     "output_type": "display_data"
    }
   ],
   "source": [
    "fig, ax = subplots()\n",
    "ax.plot(xxN, results, 'o-')\n",
    "\n",
    "ax.set_title('{} students and {} questions per questionnaire'.format(M, n))\n",
    "ax.set_xlabel('Number of possible questions')\n",
    "ax.set_ylabel('Proba. at least 2 identical')"
   ]
  },
  {
   "cell_type": "code",
   "execution_count": 195,
   "id": "01c2599c",
   "metadata": {},
   "outputs": [],
   "source": [
    "n = 10 # number of questions\n",
    "M = 40 # number of pupils\n",
    "N_max = 40\n",
    "\n",
    "p_exact_vec = np.vectorize(lambda x: p_exact_fastest(n, x, M))\n",
    "xxN = list(range(n, N_max)) # number of possible questions\n",
    "results = p_exact_vec(xxN)"
   ]
  },
  {
   "cell_type": "code",
   "execution_count": 196,
   "id": "b7da4434",
   "metadata": {},
   "outputs": [
    {
     "data": {
      "text/plain": [
       "Text(0, 0.5, 'Proba. at least 2 identical')"
      ]
     },
     "execution_count": 196,
     "metadata": {},
     "output_type": "execute_result"
    },
    {
     "data": {
      "image/png": "[encoded data removed]",
      "text/plain": [
       "<Figure size 640x480 with 1 Axes>"
      ]
     },
     "metadata": {},
     "output_type": "display_data"
    }
   ],
   "source": [
    "fig, ax = subplots()\n",
    "ax.plot(xxN, results, 'o-')\n",
    "\n",
    "ax.set_title('{} students and {} questions per questionnaire'.format(M, n))\n",
    "ax.set_xlabel('Number of possible questions')\n",
    "ax.set_ylabel('Proba. at least 2 identical')"
   ]
  },
  {
   "cell_type": "markdown",
   "id": "3c956df3",
   "metadata": {},
   "source": [
    "# Handy function"
   ]
  },
  {
   "cell_type": "code",
   "execution_count": 187,
   "id": "493ab735",
   "metadata": {},
   "outputs": [
    {
     "data": {
      "text/plain": [
       "(17, 0.00972530932757465)"
      ]
     },
     "execution_count": 187,
     "metadata": {},
     "output_type": "execute_result"
    }
   ],
   "source": [
    "# Handy function to choose number of questions you need to avoid two identical questionnaires\n",
    "\n",
    "def number_of_questions(n, M, p_alpha=0.01):\n",
    "    \"\"\"\n",
    "    Parameters\n",
    "    ==========\n",
    "    n: number of questions on a questionnaire\n",
    "    M: number of pupils\n",
    "    p_alpha: threshold for the proba of not having two identical questionnaires\n",
    "    \n",
    "    Returns\n",
    "    N: smallest number of questions for which the proba is smaller than p_alpha\n",
    "    p: the corresponding probability.\n",
    "    \"\"\"\n",
    "    \n",
    "    N = n\n",
    "    p = p_exact_fastest(n, N, M)\n",
    "   \n",
    "    while p>p_alpha:\n",
    "        N += 1\n",
    "        p = p_exact_fastest(n, N, M)\n",
    "        \n",
    "    return N, p"
   ]
  },
  {
   "cell_type": "code",
   "execution_count": 197,
   "id": "57fb8ba1",
   "metadata": {},
   "outputs": [
    {
     "name": "stdout",
     "output_type": "stream",
     "text": [
      "(17, 0.00972530932757465)\n",
      "(19, 0.00840921560590191)\n"
     ]
    }
   ],
   "source": [
    "print (number_of_questions(10, 20))\n",
    "print (number_of_questions(10, 40))"
   ]
  },
  {
   "cell_type": "markdown",
   "id": "0b37932c",
   "metadata": {},
   "source": [
    "# Testing area"
   ]
  },
  {
   "cell_type": "code",
   "execution_count": 56,
   "id": "f9c77efa",
   "metadata": {},
   "outputs": [],
   "source": [
    "# Generate set of copies\n",
    "def gen_copy_string(questions, n):\n",
    "    return ''.join(sorted(np.random.choice(questions, size=n, replace=False)))\n",
    "\n",
    "def gen_copies_string(n, N, M):\n",
    "    assert N<=26\n",
    "    questions = list(string.ascii_lowercase)[:N]\n",
    "    return [gen_copy_string(questions, n) for i in range(M)]\n",
    "\n",
    "# Sample \n",
    "def compute_approximate_proba_string(n_iter, n=7, N=50, M=30):\n",
    "    results = [is_there_at_least_two_identical_copies(gen_copies_string(n, N, M)) for i in range(n_iter)]\n",
    "    \n",
    "    return np.mean(results)\n",
    "    "
   ]
  },
  {
   "cell_type": "code",
   "execution_count": 62,
   "id": "a91e1cfe",
   "metadata": {},
   "outputs": [
    {
     "name": "stdout",
     "output_type": "stream",
     "text": [
      "0.8509030342102051\n",
      "1.0645544528961182\n"
     ]
    }
   ],
   "source": [
    "N = 4\n",
    "M = 4\n",
    "n = 2\n",
    "n_iter = 10000\n",
    "\n",
    "t0 = time.time()\n",
    "compute_approximate_proba(n_iter, n=n, N=N, M=M)\n",
    "t1 = time.time()\n",
    "print (t1-t0)\n",
    "\n",
    "t0 = time.time()\n",
    "compute_approximate_proba_string(n_iter, n=n, N=N, M=M)\n",
    "t1 = time.time()\n",
    "print (t1-t0)"
   ]
  },
  {
   "cell_type": "code",
   "execution_count": 63,
   "id": "463f5822",
   "metadata": {},
   "outputs": [
    {
     "data": {
      "text/plain": [
       "{(1, 2, 0), (3, 4, 1)}"
      ]
     },
     "execution_count": 63,
     "metadata": {},
     "output_type": "execute_result"
    }
   ],
   "source": [
    "copies = [tuple([1, 2, 0]), tuple([1, 2, 0]), tuple([3, 4, 1])]\n",
    "#copies = [tuple([1, 2, 0]), tuple([1, 2, 0]), tuple([3, 4, 1]), tuple([3, 4, 1])]\n",
    "#copies = [tuple([1, 2, 0]), tuple([3, 4, 1])]\n",
    "\n",
    "set(copies)"
   ]
  },
  {
   "cell_type": "code",
   "execution_count": 36,
   "id": "8dc05751",
   "metadata": {},
   "outputs": [
    {
     "data": {
      "text/plain": [
       "False"
      ]
     },
     "execution_count": 36,
     "metadata": {},
     "output_type": "execute_result"
    }
   ],
   "source": [
    "is_there_exactly_two_identical_copies(copies)"
   ]
  },
  {
   "cell_type": "code",
   "execution_count": 19,
   "id": "717ec683",
   "metadata": {},
   "outputs": [
    {
     "data": {
      "text/plain": [
       "{0, 1, 2}"
      ]
     },
     "execution_count": 19,
     "metadata": {},
     "output_type": "execute_result"
    }
   ],
   "source": [
    "set([1, 2, 0])"
   ]
  },
  {
   "cell_type": "code",
   "execution_count": 24,
   "id": "b3f9cff5",
   "metadata": {},
   "outputs": [
    {
     "data": {
      "text/plain": [
       "True"
      ]
     },
     "execution_count": 24,
     "metadata": {},
     "output_type": "execute_result"
    }
   ],
   "source": [
    "set([1, 2, 0]) == set([2, 0, 1])"
   ]
  },
  {
   "cell_type": "code",
   "execution_count": 69,
   "id": "cabb06b8",
   "metadata": {},
   "outputs": [
    {
     "data": {
      "text/plain": [
       "-3194506032951434905"
      ]
     },
     "execution_count": 69,
     "metadata": {},
     "output_type": "execute_result"
    }
   ],
   "source": [
    "tuple([1, 2, 0]).__hash__()"
   ]
  },
  {
   "cell_type": "code",
   "execution_count": 82,
   "id": "f4ac0fb7",
   "metadata": {},
   "outputs": [
    {
     "data": {
      "text/plain": [
       "1"
      ]
     },
     "execution_count": 82,
     "metadata": {},
     "output_type": "execute_result"
    }
   ],
   "source": [
    "df = pd.DataFrame([copy.__hash__() for copy in copies])\n",
    "df['pouet'] = 1.\n",
    "counts = df.groupby(0).count()['pouet']\n",
    "len(counts[counts==2])"
   ]
  },
  {
   "cell_type": "code",
   "execution_count": null,
   "id": "b116b0fd",
   "metadata": {},
   "outputs": [],
   "source": []
  }
 ],
 "metadata": {
  "kernelspec": {
   "display_name": "data-analysis",
   "language": "python",
   "name": "data-analysis"
  },
  "language_info": {
   "codemirror_mode": {
    "name": "ipython",
    "version": 3
   },
   "file_extension": ".py",
   "mimetype": "text/x-python",
   "name": "python",
   "nbconvert_exporter": "python",
   "pygments_lexer": "ipython3",
   "version": "3.8.10"
  }
 },
 "nbformat": 4,
 "nbformat_minor": 5
}
